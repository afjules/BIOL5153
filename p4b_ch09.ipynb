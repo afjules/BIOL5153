{
 "cells": [
  {
   "cell_type": "code",
   "execution_count": 1,
   "metadata": {},
   "outputs": [],
   "source": [
    "import os  # import os module\n",
    "os.rename(\"dna.txt\", \"dna_new.txt\") # first argument is current name of file; second is new name"
   ]
  },
  {
   "cell_type": "code",
   "execution_count": 6,
   "metadata": {},
   "outputs": [
    {
     "data": {
      "text/plain": [
       "'/Users/apriljules'"
      ]
     },
     "execution_count": 6,
     "metadata": {},
     "output_type": "execute_result"
    }
   ],
   "source": [
    "os.getenv(\"HOME\")  # find home "
   ]
  },
  {
   "cell_type": "code",
   "execution_count": 7,
   "metadata": {},
   "outputs": [],
   "source": [
    "# rename a file using the complete path\n",
    "os.rename(\"/Users/apriljules/Downloads/dna_mixed.txt\", \"/Users/apriljules/Downloads/new_dna_mixed.txt\")"
   ]
  },
  {
   "cell_type": "code",
   "execution_count": 8,
   "metadata": {},
   "outputs": [],
   "source": [
    "# make a new folder in home\n",
    "os.mkdir(\"/Users/apriljules/python\")  "
   ]
  },
  {
   "cell_type": "code",
   "execution_count": 9,
   "metadata": {},
   "outputs": [],
   "source": [
    "# delete empty folder\n",
    "os.rmdir(\"/Users/apriljules/python\")  "
   ]
  },
  {
   "cell_type": "code",
   "execution_count": 10,
   "metadata": {},
   "outputs": [],
   "source": [
    "# move and rename a file\n",
    "os.rename(\"/Users/apriljules/Downloads/new_dna_mixed.txt\", \"/Users/apriljules/Documents/dna_mixed.txt\")  "
   ]
  },
  {
   "cell_type": "code",
   "execution_count": 11,
   "metadata": {},
   "outputs": [
    {
     "name": "stdout",
     "output_type": "stream",
     "text": [
      "Here's your sequence!\n"
     ]
    }
   ],
   "source": [
    "# test whether a file or folder exists\n",
    "if os.path.exists(\"/Users/apriljules/Documents/dna_mixed.txt\"):\n",
    "    print(\"Here's your sequence!\")"
   ]
  },
  {
   "cell_type": "code",
   "execution_count": 13,
   "metadata": {},
   "outputs": [],
   "source": [
    "# delete a file\n",
    "os.remove(\"/Users/apriljules/Documents/tl.txt\")  "
   ]
  },
  {
   "cell_type": "code",
   "execution_count": 14,
   "metadata": {},
   "outputs": [
    {
     "name": "stdout",
     "output_type": "stream",
     "text": [
      "one file name is .config\n",
      "one file name is Music\n",
      "one file name is repos\n",
      "one file name is .condarc\n",
      "one file name is out.txt\n",
      "one file name is p4b_ch03.ipynb\n",
      "one file name is Untitled1.ipynb\n",
      "one file name is .DS_Store\n",
      "one file name is .CFUserTextEncoding\n",
      "one file name is bin\n",
      "one file name is .subversion\n",
      "one file name is p4b_ch02.ipynb\n",
      "one file name is Untitled.ipynb\n",
      "one file name is nucl_perc.py\n",
      "one file name is Pictures\n",
      "one file name is Lab2-Copy1.ipynb\n",
      "one file name is p4b_ch04.ipynb\n",
      "one file name is .ipython\n",
      "one file name is Desktop\n",
      "one file name is Library\n",
      "one file name is .matplotlib\n",
      "one file name is .lesshst\n",
      "one file name is .oracle_jre_usage\n",
      "one file name is dna_mixed.txt\n",
      "one file name is .bash_profile.pysave\n",
      "one file name is .bash_sessions\n",
      "one file name is Lab2.ipynb\n",
      "one file name is Public\n",
      "one file name is .bash_profile-anaconda3.bak\n",
      "one file name is .idlerc\n",
      "one file name is .anaconda\n",
      "one file name is dna_new.txt\n",
      "one file name is .ssh\n",
      "one file name is Movies\n",
      "one file name is Applications\n",
      "one file name is opt\n",
      "one file name is .Trash\n",
      "one file name is .ipynb_checkpoints\n",
      "one file name is .jupyter\n",
      "one file name is Documents\n",
      "one file name is hotger\n",
      "one file name is p4b_ch09.ipynb\n",
      "one file name is .git\n",
      "one file name is .bash_profile\n",
      "one file name is anaconda3\n",
      "one file name is Downloads\n",
      "one file name is .cache\n",
      "one file name is .gitconfig\n",
      "one file name is .bash_history\n",
      "one file name is .viminfo\n",
      "one file name is PlayOnMac's virtual drives\n",
      "one file name is .conda\n"
     ]
    }
   ],
   "source": [
    "# list contents of current working directory\n",
    "for file_name in os.listdir(\".\"): \n",
    "    print(\"one file name is \" + file_name)"
   ]
  },
  {
   "cell_type": "code",
   "execution_count": 15,
   "metadata": {},
   "outputs": [
    {
     "name": "stdout",
     "output_type": "stream",
     "text": [
      "one file name is .DS_Store\n",
      "one file name is .localized\n",
      "one file name is dna_mixed.txt\n",
      "one file name is MATLAB\n",
      "one file name is Review.docx\n"
     ]
    }
   ],
   "source": [
    "# list contents of a different folder\n",
    "for file_name in os.listdir(\"/Users/apriljules/Documents\"): \n",
    "    print(\"one file name is \" + file_name)"
   ]
  },
  {
   "cell_type": "code",
   "execution_count": 21,
   "metadata": {},
   "outputs": [
    {
     "name": "stdout",
     "output_type": "stream",
     "text": [
      "['/Users/apriljules/opt/anaconda3/lib/python3.7/site-packages/ipykernel_launcher.py', '-f', '/Users/apriljules/Library/Jupyter/runtime/kernel-ccc040cb-73e6-4914-a79b-52486a326fd6.json']\n"
     ]
    }
   ],
   "source": [
    "import sys \n",
    "print(sys.argv)"
   ]
  },
  {
   "cell_type": "code",
   "execution_count": null,
   "metadata": {},
   "outputs": [],
   "source": []
  }
 ],
 "metadata": {
  "kernelspec": {
   "display_name": "Python 3",
   "language": "python",
   "name": "python3"
  },
  "language_info": {
   "codemirror_mode": {
    "name": "ipython",
    "version": 3
   },
   "file_extension": ".py",
   "mimetype": "text/x-python",
   "name": "python",
   "nbconvert_exporter": "python",
   "pygments_lexer": "ipython3",
   "version": "3.7.4"
  }
 },
 "nbformat": 4,
 "nbformat_minor": 2
}
